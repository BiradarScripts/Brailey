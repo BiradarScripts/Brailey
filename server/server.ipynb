{
 "cells": [
  {
   "cell_type": "code",
   "execution_count": 1,
   "metadata": {
    "colab": {
     "base_uri": "https://localhost:8080/"
    },
    "id": "R3nBUMdO18_K",
    "outputId": "7cef8405-0214-4952-ba75-ad2c60cbb9f9"
   },
   "outputs": [
    {
     "name": "stdout",
     "output_type": "stream",
     "text": [
      "Requirement already satisfied: flask in /usr/local/lib/python3.10/dist-packages (3.0.3)\n",
      "Collecting pyngrok\n",
      "  Downloading pyngrok-7.2.1-py3-none-any.whl.metadata (8.3 kB)\n",
      "Requirement already satisfied: Werkzeug>=3.0.0 in /usr/local/lib/python3.10/dist-packages (from flask) (3.1.3)\n",
      "Requirement already satisfied: Jinja2>=3.1.2 in /usr/local/lib/python3.10/dist-packages (from flask) (3.1.4)\n",
      "Requirement already satisfied: itsdangerous>=2.1.2 in /usr/local/lib/python3.10/dist-packages (from flask) (2.2.0)\n",
      "Requirement already satisfied: click>=8.1.3 in /usr/local/lib/python3.10/dist-packages (from flask) (8.1.7)\n",
      "Requirement already satisfied: blinker>=1.6.2 in /usr/local/lib/python3.10/dist-packages (from flask) (1.9.0)\n",
      "Requirement already satisfied: PyYAML>=5.1 in /usr/local/lib/python3.10/dist-packages (from pyngrok) (6.0.2)\n",
      "Requirement already satisfied: MarkupSafe>=2.0 in /usr/local/lib/python3.10/dist-packages (from Jinja2>=3.1.2->flask) (3.0.2)\n",
      "Downloading pyngrok-7.2.1-py3-none-any.whl (22 kB)\n",
      "Installing collected packages: pyngrok\n",
      "Successfully installed pyngrok-7.2.1\n"
     ]
    }
   ],
   "source": [
    "!pip install flask pyngrok\n"
   ]
  },
  {
   "cell_type": "code",
   "execution_count": 4,
   "metadata": {
    "colab": {
     "base_uri": "https://localhost:8080/"
    },
    "id": "4Qzb0oxd246i",
    "outputId": "e330fe6a-95cd-4952-d4ee-5697839d2adb"
   },
   "outputs": [
    {
     "name": "stdout",
     "output_type": "stream",
     "text": [
      "Collecting flask-cors\n",
      "  Downloading Flask_Cors-5.0.0-py2.py3-none-any.whl.metadata (5.5 kB)\n",
      "Requirement already satisfied: Flask>=0.9 in /usr/local/lib/python3.10/dist-packages (from flask-cors) (3.0.3)\n",
      "Requirement already satisfied: Werkzeug>=3.0.0 in /usr/local/lib/python3.10/dist-packages (from Flask>=0.9->flask-cors) (3.1.3)\n",
      "Requirement already satisfied: Jinja2>=3.1.2 in /usr/local/lib/python3.10/dist-packages (from Flask>=0.9->flask-cors) (3.1.4)\n",
      "Requirement already satisfied: itsdangerous>=2.1.2 in /usr/local/lib/python3.10/dist-packages (from Flask>=0.9->flask-cors) (2.2.0)\n",
      "Requirement already satisfied: click>=8.1.3 in /usr/local/lib/python3.10/dist-packages (from Flask>=0.9->flask-cors) (8.1.7)\n",
      "Requirement already satisfied: blinker>=1.6.2 in /usr/local/lib/python3.10/dist-packages (from Flask>=0.9->flask-cors) (1.9.0)\n",
      "Requirement already satisfied: MarkupSafe>=2.0 in /usr/local/lib/python3.10/dist-packages (from Jinja2>=3.1.2->Flask>=0.9->flask-cors) (3.0.2)\n",
      "Downloading Flask_Cors-5.0.0-py2.py3-none-any.whl (14 kB)\n",
      "Installing collected packages: flask-cors\n",
      "Successfully installed flask-cors-5.0.0\n"
     ]
    }
   ],
   "source": [
    "!pip install flask-cors\n"
   ]
  },
  {
   "cell_type": "code",
   "execution_count": 17,
   "metadata": {
    "colab": {
     "base_uri": "https://localhost:8080/"
    },
    "id": "LJtC9EDj5wNj",
    "outputId": "b30062bf-e013-4c58-d374-8ab8b74745f4"
   },
   "outputs": [
    {
     "name": "stdout",
     "output_type": "stream",
     "text": [
      "Flask app is publicly accessible at: NgrokTunnel: \"https://70f6-35-184-246-210.ngrok-free.app\" -> \"http://localhost:5000\"\n",
      " * Serving Flask app '__main__'\n",
      " * Debug mode: off\n"
     ]
    },
    {
     "name": "stderr",
     "output_type": "stream",
     "text": [
      "INFO:werkzeug:\u001b[31m\u001b[1mWARNING: This is a development server. Do not use it in a production deployment. Use a production WSGI server instead.\u001b[0m\n",
      " * Running on http://127.0.0.1:5000\n",
      "INFO:werkzeug:\u001b[33mPress CTRL+C to quit\u001b[0m\n",
      "INFO:werkzeug:127.0.0.1 - - [17/Nov/2024 17:12:46] \"GET / HTTP/1.1\" 200 -\n",
      "INFO:werkzeug:127.0.0.1 - - [17/Nov/2024 17:12:54] \"GET / HTTP/1.1\" 200 -\n",
      "INFO:werkzeug:127.0.0.1 - - [17/Nov/2024 17:12:55] \"\u001b[33mGET /favicon.ico HTTP/1.1\u001b[0m\" 404 -\n",
      "INFO:werkzeug:127.0.0.1 - - [17/Nov/2024 17:12:56] \"GET /get-recognized-text HTTP/1.1\" 200 -\n",
      "INFO:werkzeug:127.0.0.1 - - [17/Nov/2024 17:12:57] \"GET /get-recognized-text HTTP/1.1\" 200 -\n",
      "INFO:werkzeug:127.0.0.1 - - [17/Nov/2024 17:12:58] \"GET /get-recognized-text HTTP/1.1\" 200 -\n",
      "INFO:werkzeug:127.0.0.1 - - [17/Nov/2024 17:12:59] \"GET /get-recognized-text HTTP/1.1\" 200 -\n",
      "INFO:werkzeug:127.0.0.1 - - [17/Nov/2024 17:13:00] \"GET /get-recognized-text HTTP/1.1\" 200 -\n",
      "INFO:werkzeug:127.0.0.1 - - [17/Nov/2024 17:13:01] \"OPTIONS /data HTTP/1.1\" 200 -\n",
      "INFO:werkzeug:127.0.0.1 - - [17/Nov/2024 17:13:01] \"OPTIONS /data HTTP/1.1\" 200 -\n",
      "INFO:werkzeug:127.0.0.1 - - [17/Nov/2024 17:13:01] \"OPTIONS /data HTTP/1.1\" 200 -\n",
      "INFO:werkzeug:127.0.0.1 - - [17/Nov/2024 17:13:01] \"OPTIONS /data HTTP/1.1\" 200 -\n",
      "INFO:werkzeug:127.0.0.1 - - [17/Nov/2024 17:13:01] \"GET /get-recognized-text HTTP/1.1\" 200 -\n",
      "INFO:werkzeug:127.0.0.1 - - [17/Nov/2024 17:13:01] \"POST /data HTTP/1.1\" 200 -\n",
      "INFO:werkzeug:127.0.0.1 - - [17/Nov/2024 17:13:01] \"POST /data HTTP/1.1\" 200 -\n",
      "INFO:werkzeug:127.0.0.1 - - [17/Nov/2024 17:13:01] \"POST /data HTTP/1.1\" 200 -\n",
      "INFO:werkzeug:127.0.0.1 - - [17/Nov/2024 17:13:01] \"POST /data HTTP/1.1\" 200 -\n"
     ]
    },
    {
     "name": "stdout",
     "output_type": "stream",
     "text": [
      "Received recognized text: S\n",
      "Received recognized text: S\n",
      "Received recognized text: S\n",
      "Received recognized text: S\n"
     ]
    },
    {
     "name": "stderr",
     "output_type": "stream",
     "text": [
      "INFO:werkzeug:127.0.0.1 - - [17/Nov/2024 17:13:02] \"GET /get-recognized-text HTTP/1.1\" 200 -\n",
      "INFO:werkzeug:127.0.0.1 - - [17/Nov/2024 17:13:03] \"GET /get-recognized-text HTTP/1.1\" 200 -\n",
      "INFO:werkzeug:127.0.0.1 - - [17/Nov/2024 17:13:04] \"GET /get-recognized-text HTTP/1.1\" 200 -\n",
      "INFO:werkzeug:127.0.0.1 - - [17/Nov/2024 17:13:05] \"GET /get-recognized-text HTTP/1.1\" 200 -\n",
      "INFO:werkzeug:127.0.0.1 - - [17/Nov/2024 17:13:06] \"POST /data HTTP/1.1\" 200 -\n",
      "INFO:werkzeug:127.0.0.1 - - [17/Nov/2024 17:13:06] \"POST /data HTTP/1.1\" 200 -\n",
      "INFO:werkzeug:127.0.0.1 - - [17/Nov/2024 17:13:06] \"POST /data HTTP/1.1\" 200 -\n",
      "INFO:werkzeug:127.0.0.1 - - [17/Nov/2024 17:13:06] \"POST /data HTTP/1.1\" 200 -\n"
     ]
    },
    {
     "name": "stdout",
     "output_type": "stream",
     "text": [
      "Received recognized text: SH\n",
      "Received recognized text: SH\n",
      "Received recognized text: SH\n",
      "Received recognized text: SH\n"
     ]
    },
    {
     "name": "stderr",
     "output_type": "stream",
     "text": [
      "INFO:werkzeug:127.0.0.1 - - [17/Nov/2024 17:13:06] \"GET /get-recognized-text HTTP/1.1\" 200 -\n",
      "INFO:werkzeug:127.0.0.1 - - [17/Nov/2024 17:13:07] \"GET /get-recognized-text HTTP/1.1\" 200 -\n",
      "INFO:werkzeug:127.0.0.1 - - [17/Nov/2024 17:13:08] \"GET /get-recognized-text HTTP/1.1\" 200 -\n",
      "INFO:werkzeug:127.0.0.1 - - [17/Nov/2024 17:13:08] \"OPTIONS /data HTTP/1.1\" 200 -\n",
      "INFO:werkzeug:127.0.0.1 - - [17/Nov/2024 17:13:09] \"OPTIONS /data HTTP/1.1\" 200 -\n",
      "INFO:werkzeug:127.0.0.1 - - [17/Nov/2024 17:13:09] \"OPTIONS /data HTTP/1.1\" 200 -\n",
      "INFO:werkzeug:127.0.0.1 - - [17/Nov/2024 17:13:09] \"OPTIONS /data HTTP/1.1\" 200 -\n",
      "INFO:werkzeug:127.0.0.1 - - [17/Nov/2024 17:13:09] \"GET /get-recognized-text HTTP/1.1\" 200 -\n",
      "INFO:werkzeug:127.0.0.1 - - [17/Nov/2024 17:13:09] \"OPTIONS /data HTTP/1.1\" 200 -\n",
      "INFO:werkzeug:127.0.0.1 - - [17/Nov/2024 17:13:09] \"POST /data HTTP/1.1\" 200 -\n",
      "INFO:werkzeug:127.0.0.1 - - [17/Nov/2024 17:13:09] \"OPTIONS /data HTTP/1.1\" 200 -\n",
      "INFO:werkzeug:127.0.0.1 - - [17/Nov/2024 17:13:09] \"OPTIONS /data HTTP/1.1\" 200 -\n",
      "INFO:werkzeug:127.0.0.1 - - [17/Nov/2024 17:13:09] \"POST /data HTTP/1.1\" 200 -\n",
      "INFO:werkzeug:127.0.0.1 - - [17/Nov/2024 17:13:09] \"OPTIONS /data HTTP/1.1\" 200 -\n",
      "INFO:werkzeug:127.0.0.1 - - [17/Nov/2024 17:13:09] \"POST /data HTTP/1.1\" 200 -\n",
      "INFO:werkzeug:127.0.0.1 - - [17/Nov/2024 17:13:09] \"POST /data HTTP/1.1\" 200 -\n"
     ]
    },
    {
     "name": "stdout",
     "output_type": "stream",
     "text": [
      "Received recognized text: SH\n",
      "[\n",
      "Received recognized text: SH\n",
      "[\n",
      "Received recognized text: SH\n",
      "[\n",
      "Received recognized text: SH\n",
      "[\n"
     ]
    },
    {
     "name": "stderr",
     "output_type": "stream",
     "text": [
      "INFO:werkzeug:127.0.0.1 - - [17/Nov/2024 17:13:10] \"POST /data HTTP/1.1\" 200 -\n",
      "INFO:werkzeug:127.0.0.1 - - [17/Nov/2024 17:13:10] \"POST /data HTTP/1.1\" 200 -\n",
      "INFO:werkzeug:127.0.0.1 - - [17/Nov/2024 17:13:10] \"POST /data HTTP/1.1\" 200 -\n",
      "INFO:werkzeug:127.0.0.1 - - [17/Nov/2024 17:13:10] \"GET /get-recognized-text HTTP/1.1\" 200 -\n",
      "INFO:werkzeug:127.0.0.1 - - [17/Nov/2024 17:13:10] \"POST /data HTTP/1.1\" 200 -\n"
     ]
    },
    {
     "name": "stdout",
     "output_type": "stream",
     "text": [
      "Received recognized text: SH\n",
      "E\n",
      "Received recognized text: SH\n",
      "E\n",
      "Received recognized text: SH\n",
      "E\n",
      "Received recognized text: SH\n",
      "E\n"
     ]
    },
    {
     "name": "stderr",
     "output_type": "stream",
     "text": [
      "INFO:werkzeug:127.0.0.1 - - [17/Nov/2024 17:13:11] \"GET /get-recognized-text HTTP/1.1\" 200 -\n",
      "INFO:werkzeug:127.0.0.1 - - [17/Nov/2024 17:13:12] \"GET /get-recognized-text HTTP/1.1\" 200 -\n",
      "INFO:werkzeug:127.0.0.1 - - [17/Nov/2024 17:13:13] \"GET /get-recognized-text HTTP/1.1\" 200 -\n",
      "INFO:werkzeug:127.0.0.1 - - [17/Nov/2024 17:13:13] \"POST /data HTTP/1.1\" 200 -\n",
      "INFO:werkzeug:127.0.0.1 - - [17/Nov/2024 17:13:13] \"POST /data HTTP/1.1\" 200 -\n",
      "INFO:werkzeug:127.0.0.1 - - [17/Nov/2024 17:13:13] \"POST /data HTTP/1.1\" 200 -\n",
      "INFO:werkzeug:127.0.0.1 - - [17/Nov/2024 17:13:13] \"POST /data HTTP/1.1\" 200 -\n"
     ]
    },
    {
     "name": "stdout",
     "output_type": "stream",
     "text": [
      "Received recognized text: SH\n",
      "E\n",
      "Y\n",
      "Received recognized text: SH\n",
      "E\n",
      "Y\n",
      "Received recognized text: SH\n",
      "E\n",
      "Y\n",
      "Received recognized text: SH\n",
      "E\n",
      "Y\n"
     ]
    },
    {
     "name": "stderr",
     "output_type": "stream",
     "text": [
      "INFO:werkzeug:127.0.0.1 - - [17/Nov/2024 17:13:14] \"GET /get-recognized-text HTTP/1.1\" 200 -\n",
      "INFO:werkzeug:127.0.0.1 - - [17/Nov/2024 17:13:15] \"GET /get-recognized-text HTTP/1.1\" 200 -\n",
      "INFO:werkzeug:127.0.0.1 - - [17/Nov/2024 17:13:16] \"GET /get-recognized-text HTTP/1.1\" 200 -\n",
      "INFO:werkzeug:127.0.0.1 - - [17/Nov/2024 17:13:16] \"OPTIONS /data HTTP/1.1\" 200 -\n",
      "INFO:werkzeug:127.0.0.1 - - [17/Nov/2024 17:13:16] \"OPTIONS /data HTTP/1.1\" 200 -\n",
      "INFO:werkzeug:127.0.0.1 - - [17/Nov/2024 17:13:16] \"OPTIONS /data HTTP/1.1\" 200 -\n",
      "INFO:werkzeug:127.0.0.1 - - [17/Nov/2024 17:13:16] \"OPTIONS /data HTTP/1.1\" 200 -\n",
      "INFO:werkzeug:127.0.0.1 - - [17/Nov/2024 17:13:17] \"GET /get-recognized-text HTTP/1.1\" 200 -\n",
      "INFO:werkzeug:127.0.0.1 - - [17/Nov/2024 17:13:17] \"POST /data HTTP/1.1\" 200 -\n",
      "INFO:werkzeug:127.0.0.1 - - [17/Nov/2024 17:13:17] \"POST /data HTTP/1.1\" 200 -\n",
      "INFO:werkzeug:127.0.0.1 - - [17/Nov/2024 17:13:17] \"POST /data HTTP/1.1\" 200 -\n",
      "INFO:werkzeug:127.0.0.1 - - [17/Nov/2024 17:13:17] \"POST /data HTTP/1.1\" 200 -\n",
      "INFO:werkzeug:127.0.0.1 - - [17/Nov/2024 17:13:17] \"POST /data HTTP/1.1\" 200 -\n",
      "INFO:werkzeug:127.0.0.1 - - [17/Nov/2024 17:13:17] \"POST /data HTTP/1.1\" 200 -\n",
      "INFO:werkzeug:127.0.0.1 - - [17/Nov/2024 17:13:17] \"POST /data HTTP/1.1\" 200 -\n",
      "INFO:werkzeug:127.0.0.1 - - [17/Nov/2024 17:13:17] \"POST /data HTTP/1.1\" 200 -\n"
     ]
    },
    {
     "name": "stdout",
     "output_type": "stream",
     "text": [
      "Received recognized text: SH\n",
      "E\n",
      "Y\n",
      "I\n",
      "Received recognized text: SH\n",
      "E\n",
      "Y\n",
      "+Received recognized text: SH\n",
      "E\n",
      "Y\n",
      "I\n",
      "\n",
      "Received recognized text: SH\n",
      "E\n",
      "Y\n",
      "+Received recognized text: SH\n",
      "E\n",
      "Y\n",
      "I\n",
      "Received recognized text: SH\n",
      "E\n",
      "Y\n",
      "+\n",
      "\n",
      "Received recognized text: SH\n",
      "E\n",
      "Y\n",
      "+\n",
      "Received recognized text: SH\n",
      "E\n",
      "Y\n",
      "I\n"
     ]
    },
    {
     "name": "stderr",
     "output_type": "stream",
     "text": [
      "INFO:werkzeug:127.0.0.1 - - [17/Nov/2024 17:13:18] \"GET /get-recognized-text HTTP/1.1\" 200 -\n",
      "INFO:werkzeug:127.0.0.1 - - [17/Nov/2024 17:13:19] \"GET /get-recognized-text HTTP/1.1\" 200 -\n",
      "INFO:werkzeug:127.0.0.1 - - [17/Nov/2024 17:13:20] \"GET /get-recognized-text HTTP/1.1\" 200 -\n",
      "INFO:werkzeug:127.0.0.1 - - [17/Nov/2024 17:13:21] \"GET /get-recognized-text HTTP/1.1\" 200 -\n",
      "INFO:werkzeug:127.0.0.1 - - [17/Nov/2024 17:13:22] \"GET /get-recognized-text HTTP/1.1\" 200 -\n",
      "INFO:werkzeug:127.0.0.1 - - [17/Nov/2024 17:13:22] \"POST /data HTTP/1.1\" 200 -\n",
      "INFO:werkzeug:127.0.0.1 - - [17/Nov/2024 17:13:22] \"POST /data HTTP/1.1\" 200 -\n",
      "INFO:werkzeug:127.0.0.1 - - [17/Nov/2024 17:13:22] \"POST /data HTTP/1.1\" 200 -\n",
      "INFO:werkzeug:127.0.0.1 - - [17/Nov/2024 17:13:22] \"POST /data HTTP/1.1\" 200 -\n"
     ]
    },
    {
     "name": "stdout",
     "output_type": "stream",
     "text": [
      "Received recognized text: SH\n",
      "E\n",
      "Y\n",
      "+\n",
      "2\n",
      "Received recognized text: SH\n",
      "E\n",
      "Y\n",
      "+\n",
      "2\n",
      "Received recognized text: SH\n",
      "E\n",
      "Y\n",
      "+\n",
      "2\n",
      "Received recognized text: SH\n",
      "E\n",
      "Y\n",
      "+\n",
      "2\n"
     ]
    },
    {
     "name": "stderr",
     "output_type": "stream",
     "text": [
      "INFO:werkzeug:127.0.0.1 - - [17/Nov/2024 17:13:23] \"GET /get-recognized-text HTTP/1.1\" 200 -\n",
      "INFO:werkzeug:127.0.0.1 - - [17/Nov/2024 17:13:24] \"GET /get-recognized-text HTTP/1.1\" 200 -\n",
      "INFO:werkzeug:127.0.0.1 - - [17/Nov/2024 17:13:25] \"GET /get-recognized-text HTTP/1.1\" 200 -\n",
      "INFO:werkzeug:127.0.0.1 - - [17/Nov/2024 17:13:26] \"GET /get-recognized-text HTTP/1.1\" 200 -\n",
      "INFO:werkzeug:127.0.0.1 - - [17/Nov/2024 17:13:27] \"OPTIONS /data HTTP/1.1\" 200 -\n",
      "INFO:werkzeug:127.0.0.1 - - [17/Nov/2024 17:13:27] \"OPTIONS /data HTTP/1.1\" 200 -\n",
      "INFO:werkzeug:127.0.0.1 - - [17/Nov/2024 17:13:27] \"OPTIONS /data HTTP/1.1\" 200 -\n",
      "INFO:werkzeug:127.0.0.1 - - [17/Nov/2024 17:13:27] \"OPTIONS /data HTTP/1.1\" 200 -\n",
      "INFO:werkzeug:127.0.0.1 - - [17/Nov/2024 17:13:27] \"GET /get-recognized-text HTTP/1.1\" 200 -\n",
      "INFO:werkzeug:127.0.0.1 - - [17/Nov/2024 17:13:27] \"POST /data HTTP/1.1\" 200 -\n",
      "INFO:werkzeug:127.0.0.1 - - [17/Nov/2024 17:13:27] \"POST /data HTTP/1.1\" 200 -\n",
      "INFO:werkzeug:127.0.0.1 - - [17/Nov/2024 17:13:27] \"POST /data HTTP/1.1\" 200 -\n",
      "INFO:werkzeug:127.0.0.1 - - [17/Nov/2024 17:13:27] \"POST /data HTTP/1.1\" 200 -\n"
     ]
    },
    {
     "name": "stdout",
     "output_type": "stream",
     "text": [
      "Received recognized text: SH\n",
      "E\n",
      "Y\n",
      "+\n",
      "20\n",
      "Received recognized text: SH\n",
      "E\n",
      "Y\n",
      "+\n",
      "20\n",
      "Received recognized text: SH\n",
      "E\n",
      "Y\n",
      "+\n",
      "20\n",
      "Received recognized text: SH\n",
      "E\n",
      "Y\n",
      "+\n",
      "20\n"
     ]
    },
    {
     "name": "stderr",
     "output_type": "stream",
     "text": [
      "INFO:werkzeug:127.0.0.1 - - [17/Nov/2024 17:13:28] \"GET /get-recognized-text HTTP/1.1\" 200 -\n",
      "INFO:werkzeug:127.0.0.1 - - [17/Nov/2024 17:13:29] \"GET /get-recognized-text HTTP/1.1\" 200 -\n",
      "INFO:werkzeug:127.0.0.1 - - [17/Nov/2024 17:13:30] \"GET /get-recognized-text HTTP/1.1\" 200 -\n",
      "INFO:werkzeug:127.0.0.1 - - [17/Nov/2024 17:13:31] \"GET /get-recognized-text HTTP/1.1\" 200 -\n",
      "INFO:werkzeug:127.0.0.1 - - [17/Nov/2024 17:13:32] \"GET /get-recognized-text HTTP/1.1\" 200 -\n",
      "INFO:werkzeug:127.0.0.1 - - [17/Nov/2024 17:13:33] \"OPTIONS /data HTTP/1.1\" 200 -\n",
      "INFO:werkzeug:127.0.0.1 - - [17/Nov/2024 17:13:33] \"GET /get-recognized-text HTTP/1.1\" 200 -\n",
      "INFO:werkzeug:127.0.0.1 - - [17/Nov/2024 17:13:33] \"OPTIONS /data HTTP/1.1\" 200 -\n",
      "INFO:werkzeug:127.0.0.1 - - [17/Nov/2024 17:13:33] \"OPTIONS /data HTTP/1.1\" 200 -\n",
      "INFO:werkzeug:127.0.0.1 - - [17/Nov/2024 17:13:33] \"OPTIONS /data HTTP/1.1\" 200 -\n",
      "INFO:werkzeug:127.0.0.1 - - [17/Nov/2024 17:13:33] \"POST /data HTTP/1.1\" 200 -\n",
      "INFO:werkzeug:127.0.0.1 - - [17/Nov/2024 17:13:33] \"POST /data HTTP/1.1\" 200 -\n",
      "INFO:werkzeug:127.0.0.1 - - [17/Nov/2024 17:13:33] \"POST /data HTTP/1.1\" 200 -\n",
      "INFO:werkzeug:127.0.0.1 - - [17/Nov/2024 17:13:33] \"POST /data HTTP/1.1\" 200 -\n"
     ]
    },
    {
     "name": "stdout",
     "output_type": "stream",
     "text": [
      "Received recognized text: SH\n",
      "E\n",
      "Y\n",
      "+\n",
      "20\n",
      "L\n",
      "Received recognized text: SH\n",
      "E\n",
      "Y\n",
      "+\n",
      "20\n",
      "L\n",
      "Received recognized text: SH\n",
      "E\n",
      "Y\n",
      "+\n",
      "20\n",
      "LReceived recognized text: SH\n",
      "E\n",
      "Y\n",
      "+\n",
      "20\n",
      "L\n",
      "\n"
     ]
    },
    {
     "name": "stderr",
     "output_type": "stream",
     "text": [
      "INFO:werkzeug:127.0.0.1 - - [17/Nov/2024 17:13:34] \"GET /get-recognized-text HTTP/1.1\" 200 -\n",
      "INFO:werkzeug:127.0.0.1 - - [17/Nov/2024 17:13:35] \"GET /get-recognized-text HTTP/1.1\" 200 -\n",
      "INFO:werkzeug:127.0.0.1 - - [17/Nov/2024 17:13:36] \"GET /get-recognized-text HTTP/1.1\" 200 -\n",
      "INFO:werkzeug:127.0.0.1 - - [17/Nov/2024 17:13:37] \"GET /get-recognized-text HTTP/1.1\" 200 -\n",
      "INFO:werkzeug:127.0.0.1 - - [17/Nov/2024 17:13:38] \"POST /data HTTP/1.1\" 200 -\n",
      "INFO:werkzeug:127.0.0.1 - - [17/Nov/2024 17:13:38] \"POST /data HTTP/1.1\" 200 -\n",
      "INFO:werkzeug:127.0.0.1 - - [17/Nov/2024 17:13:38] \"POST /data HTTP/1.1\" 200 -\n",
      "INFO:werkzeug:127.0.0.1 - - [17/Nov/2024 17:13:38] \"POST /data HTTP/1.1\" 200 -\n",
      "INFO:werkzeug:127.0.0.1 - - [17/Nov/2024 17:13:38] \"GET /get-recognized-text HTTP/1.1\" 200 -\n"
     ]
    },
    {
     "name": "stdout",
     "output_type": "stream",
     "text": [
      "Received recognized text: SH\n",
      "E\n",
      "Y\n",
      "+\n",
      "20\n",
      "L\n",
      "\n",
      "\n",
      "\n",
      "\n",
      "I\n",
      "Received recognized text: SH\n",
      "E\n",
      "Y\n",
      "+\n",
      "20\n",
      "L\n",
      "\n",
      "\n",
      "\n",
      "\n",
      "I\n",
      "Received recognized text: SH\n",
      "E\n",
      "Y\n",
      "+\n",
      "20\n",
      "L\n",
      "\n",
      "\n",
      "\n",
      "\n",
      "I\n",
      "Received recognized text: SH\n",
      "E\n",
      "Y\n",
      "+\n",
      "20\n",
      "L\n",
      "\n",
      "\n",
      "\n",
      "\n",
      "I\n"
     ]
    },
    {
     "name": "stderr",
     "output_type": "stream",
     "text": [
      "INFO:werkzeug:127.0.0.1 - - [17/Nov/2024 17:13:38] \"POST /data HTTP/1.1\" 200 -\n",
      "INFO:werkzeug:127.0.0.1 - - [17/Nov/2024 17:13:38] \"POST /data HTTP/1.1\" 200 -\n",
      "INFO:werkzeug:127.0.0.1 - - [17/Nov/2024 17:13:38] \"POST /data HTTP/1.1\" 200 -\n",
      "INFO:werkzeug:127.0.0.1 - - [17/Nov/2024 17:13:38] \"POST /data HTTP/1.1\" 200 -\n"
     ]
    },
    {
     "name": "stdout",
     "output_type": "stream",
     "text": [
      "Received recognized text: SH\n",
      "E\n",
      "Y\n",
      "+\n",
      "20\n",
      "L\n",
      "\n",
      "\n",
      "\n",
      "\n",
      "✗\n",
      "Received recognized text: SH\n",
      "E\n",
      "Y\n",
      "+\n",
      "20\n",
      "L\n",
      "\n",
      "\n",
      "\n",
      "\n",
      "✗\n",
      "Received recognized text: SH\n",
      "E\n",
      "Y\n",
      "+\n",
      "20\n",
      "L\n",
      "\n",
      "\n",
      "\n",
      "\n",
      "✗\n",
      "Received recognized text: SH\n",
      "E\n",
      "Y\n",
      "+\n",
      "20\n",
      "L\n",
      "\n",
      "\n",
      "\n",
      "\n",
      "✗\n"
     ]
    },
    {
     "name": "stderr",
     "output_type": "stream",
     "text": [
      "INFO:werkzeug:127.0.0.1 - - [17/Nov/2024 17:13:39] \"GET /get-recognized-text HTTP/1.1\" 200 -\n",
      "INFO:werkzeug:127.0.0.1 - - [17/Nov/2024 17:13:40] \"GET /get-recognized-text HTTP/1.1\" 200 -\n",
      "INFO:werkzeug:127.0.0.1 - - [17/Nov/2024 17:13:41] \"GET /get-recognized-text HTTP/1.1\" 200 -\n",
      "INFO:werkzeug:127.0.0.1 - - [17/Nov/2024 17:13:42] \"GET /get-recognized-text HTTP/1.1\" 200 -\n",
      "INFO:werkzeug:127.0.0.1 - - [17/Nov/2024 17:13:43] \"GET /get-recognized-text HTTP/1.1\" 200 -\n",
      "INFO:werkzeug:127.0.0.1 - - [17/Nov/2024 17:13:43] \"GET / HTTP/1.1\" 200 -\n",
      "INFO:werkzeug:127.0.0.1 - - [17/Nov/2024 17:13:44] \"GET /get-recognized-text HTTP/1.1\" 200 -\n",
      "INFO:werkzeug:127.0.0.1 - - [17/Nov/2024 17:13:45] \"GET /get-recognized-text HTTP/1.1\" 200 -\n",
      "INFO:werkzeug:127.0.0.1 - - [17/Nov/2024 17:14:16] \"GET / HTTP/1.1\" 200 -\n",
      "INFO:werkzeug:127.0.0.1 - - [17/Nov/2024 17:14:17] \"\u001b[33mGET /favicon.ico HTTP/1.1\u001b[0m\" 404 -\n",
      "INFO:werkzeug:127.0.0.1 - - [17/Nov/2024 17:14:18] \"GET /get-recognized-text HTTP/1.1\" 200 -\n",
      "INFO:werkzeug:127.0.0.1 - - [17/Nov/2024 17:14:19] \"GET /get-recognized-text HTTP/1.1\" 200 -\n",
      "INFO:werkzeug:127.0.0.1 - - [17/Nov/2024 17:14:20] \"GET /get-recognized-text HTTP/1.1\" 200 -\n",
      "INFO:werkzeug:127.0.0.1 - - [17/Nov/2024 17:14:22] \"GET /get-recognized-text HTTP/1.1\" 200 -\n",
      "INFO:werkzeug:127.0.0.1 - - [17/Nov/2024 17:14:22] \"GET /get-recognized-text HTTP/1.1\" 200 -\n",
      "INFO:werkzeug:127.0.0.1 - - [17/Nov/2024 17:14:23] \"GET /get-recognized-text HTTP/1.1\" 200 -\n",
      "INFO:werkzeug:127.0.0.1 - - [17/Nov/2024 17:14:24] \"GET /get-recognized-text HTTP/1.1\" 200 -\n",
      "INFO:werkzeug:127.0.0.1 - - [17/Nov/2024 17:14:25] \"GET /get-recognized-text HTTP/1.1\" 200 -\n",
      "INFO:werkzeug:127.0.0.1 - - [17/Nov/2024 17:14:27] \"GET /get-recognized-text HTTP/1.1\" 200 -\n",
      "INFO:werkzeug:127.0.0.1 - - [17/Nov/2024 17:14:27] \"OPTIONS /data HTTP/1.1\" 200 -\n",
      "INFO:werkzeug:127.0.0.1 - - [17/Nov/2024 17:14:27] \"OPTIONS /data HTTP/1.1\" 200 -\n",
      "INFO:werkzeug:127.0.0.1 - - [17/Nov/2024 17:14:27] \"OPTIONS /data HTTP/1.1\" 200 -\n",
      "INFO:werkzeug:127.0.0.1 - - [17/Nov/2024 17:14:27] \"OPTIONS /data HTTP/1.1\" 200 -\n",
      "INFO:werkzeug:127.0.0.1 - - [17/Nov/2024 17:14:28] \"GET /get-recognized-text HTTP/1.1\" 200 -\n",
      "INFO:werkzeug:127.0.0.1 - - [17/Nov/2024 17:14:28] \"POST /data HTTP/1.1\" 200 -\n",
      "INFO:werkzeug:127.0.0.1 - - [17/Nov/2024 17:14:28] \"POST /data HTTP/1.1\" 200 -\n",
      "INFO:werkzeug:127.0.0.1 - - [17/Nov/2024 17:14:28] \"POST /data HTTP/1.1\" 200 -\n",
      "INFO:werkzeug:127.0.0.1 - - [17/Nov/2024 17:14:28] \"POST /data HTTP/1.1\" 200 -\n",
      "INFO:werkzeug:127.0.0.1 - - [17/Nov/2024 17:14:28] \"POST /data HTTP/1.1\" 200 -\n",
      "INFO:werkzeug:127.0.0.1 - - [17/Nov/2024 17:14:28] \"POST /data HTTP/1.1\" 200 -\n",
      "INFO:werkzeug:127.0.0.1 - - [17/Nov/2024 17:14:28] \"POST /data HTTP/1.1\" 200 -\n",
      "INFO:werkzeug:127.0.0.1 - - [17/Nov/2024 17:14:28] \"POST /data HTTP/1.1\" 200 -\n"
     ]
    },
    {
     "name": "stdout",
     "output_type": "stream",
     "text": [
      "Received recognized text: l\n",
      "Received recognized text: l\n",
      "Received recognized text: H\n",
      "Received recognized text: H\n",
      "Received recognized text: H\n",
      "Received recognized text: H\n",
      "Received recognized text: l\n",
      "Received recognized text: l\n"
     ]
    },
    {
     "name": "stderr",
     "output_type": "stream",
     "text": [
      "INFO:werkzeug:127.0.0.1 - - [17/Nov/2024 17:14:29] \"GET /get-recognized-text HTTP/1.1\" 200 -\n",
      "INFO:werkzeug:127.0.0.1 - - [17/Nov/2024 17:14:29] \"POST /data HTTP/1.1\" 200 -\n",
      "INFO:werkzeug:127.0.0.1 - - [17/Nov/2024 17:14:29] \"POST /data HTTP/1.1\" 200 -\n"
     ]
    },
    {
     "name": "stdout",
     "output_type": "stream",
     "text": [
      "Received recognized text: HE\n",
      "Received recognized text: HE\n"
     ]
    },
    {
     "name": "stderr",
     "output_type": "stream",
     "text": [
      "INFO:werkzeug:127.0.0.1 - - [17/Nov/2024 17:14:29] \"POST /data HTTP/1.1\" 200 -\n",
      "INFO:werkzeug:127.0.0.1 - - [17/Nov/2024 17:14:29] \"POST /data HTTP/1.1\" 200 -\n"
     ]
    },
    {
     "name": "stdout",
     "output_type": "stream",
     "text": [
      "Received recognized text: HE\n",
      "Received recognized text: HE\n"
     ]
    },
    {
     "name": "stderr",
     "output_type": "stream",
     "text": [
      "INFO:werkzeug:127.0.0.1 - - [17/Nov/2024 17:14:30] \"GET /get-recognized-text HTTP/1.1\" 200 -\n",
      "INFO:werkzeug:127.0.0.1 - - [17/Nov/2024 17:14:30] \"POST /data HTTP/1.1\" 200 -\n",
      "INFO:werkzeug:127.0.0.1 - - [17/Nov/2024 17:14:30] \"POST /data HTTP/1.1\" 200 -\n",
      "INFO:werkzeug:127.0.0.1 - - [17/Nov/2024 17:14:30] \"POST /data HTTP/1.1\" 200 -\n",
      "INFO:werkzeug:127.0.0.1 - - [17/Nov/2024 17:14:30] \"POST /data HTTP/1.1\" 200 -\n"
     ]
    },
    {
     "name": "stdout",
     "output_type": "stream",
     "text": [
      "Received recognized text: HFReceived recognized text: HF\n",
      "\n",
      "Received recognized text: HF\n",
      "Received recognized text: HF\n"
     ]
    },
    {
     "name": "stderr",
     "output_type": "stream",
     "text": [
      "INFO:werkzeug:127.0.0.1 - - [17/Nov/2024 17:14:30] \"POST /data HTTP/1.1\" 200 -\n",
      "INFO:werkzeug:127.0.0.1 - - [17/Nov/2024 17:14:30] \"POST /data HTTP/1.1\" 200 -\n",
      "INFO:werkzeug:127.0.0.1 - - [17/Nov/2024 17:14:30] \"POST /data HTTP/1.1\" 200 -\n",
      "INFO:werkzeug:127.0.0.1 - - [17/Nov/2024 17:14:30] \"POST /data HTTP/1.1\" 200 -\n",
      "INFO:werkzeug:127.0.0.1 - - [17/Nov/2024 17:14:31] \"GET /get-recognized-text HTTP/1.1\" 200 -\n"
     ]
    },
    {
     "name": "stdout",
     "output_type": "stream",
     "text": [
      "Received recognized text: HFL\n",
      "Received recognized text: HFL\n",
      "Received recognized text: HFL\n",
      "Received recognized text: HFL\n"
     ]
    },
    {
     "name": "stderr",
     "output_type": "stream",
     "text": [
      "INFO:werkzeug:127.0.0.1 - - [17/Nov/2024 17:14:31] \"POST /data HTTP/1.1\" 200 -\n",
      "INFO:werkzeug:127.0.0.1 - - [17/Nov/2024 17:14:31] \"POST /data HTTP/1.1\" 200 -\n",
      "INFO:werkzeug:127.0.0.1 - - [17/Nov/2024 17:14:31] \"POST /data HTTP/1.1\" 200 -\n",
      "INFO:werkzeug:127.0.0.1 - - [17/Nov/2024 17:14:31] \"POST /data HTTP/1.1\" 200 -\n"
     ]
    },
    {
     "name": "stdout",
     "output_type": "stream",
     "text": [
      "Received recognized text: HELL\n",
      "Received recognized text: HELL\n",
      "Received recognized text: HELL\n",
      "Received recognized text: HELL\n"
     ]
    },
    {
     "name": "stderr",
     "output_type": "stream",
     "text": [
      "INFO:werkzeug:127.0.0.1 - - [17/Nov/2024 17:14:32] \"GET /get-recognized-text HTTP/1.1\" 200 -\n",
      "INFO:werkzeug:127.0.0.1 - - [17/Nov/2024 17:14:32] \"POST /data HTTP/1.1\" 200 -\n",
      "INFO:werkzeug:127.0.0.1 - - [17/Nov/2024 17:14:32] \"POST /data HTTP/1.1\" 200 -\n"
     ]
    },
    {
     "name": "stdout",
     "output_type": "stream",
     "text": [
      "Received recognized text: HELLO\n",
      "Received recognized text: HELLO\n"
     ]
    },
    {
     "name": "stderr",
     "output_type": "stream",
     "text": [
      "INFO:werkzeug:127.0.0.1 - - [17/Nov/2024 17:14:32] \"POST /data HTTP/1.1\" 200 -\n",
      "INFO:werkzeug:127.0.0.1 - - [17/Nov/2024 17:14:32] \"POST /data HTTP/1.1\" 200 -\n",
      "INFO:werkzeug:127.0.0.1 - - [17/Nov/2024 17:14:33] \"GET /get-recognized-text HTTP/1.1\" 200 -\n"
     ]
    },
    {
     "name": "stdout",
     "output_type": "stream",
     "text": [
      "Received recognized text: HELLO\n",
      "Received recognized text: HELLO\n"
     ]
    },
    {
     "name": "stderr",
     "output_type": "stream",
     "text": [
      "INFO:werkzeug:127.0.0.1 - - [17/Nov/2024 17:14:33] \"GET /get-recognized-text HTTP/1.1\" 200 -\n",
      "INFO:werkzeug:127.0.0.1 - - [17/Nov/2024 17:14:34] \"GET /get-recognized-text HTTP/1.1\" 200 -\n",
      "INFO:werkzeug:127.0.0.1 - - [17/Nov/2024 17:14:35] \"GET /get-recognized-text HTTP/1.1\" 200 -\n",
      "INFO:werkzeug:127.0.0.1 - - [17/Nov/2024 17:14:37] \"GET /get-recognized-text HTTP/1.1\" 200 -\n",
      "INFO:werkzeug:127.0.0.1 - - [17/Nov/2024 17:14:37] \"GET /get-recognized-text HTTP/1.1\" 200 -\n",
      "INFO:werkzeug:127.0.0.1 - - [17/Nov/2024 17:14:38] \"GET /get-recognized-text HTTP/1.1\" 200 -\n",
      "INFO:werkzeug:127.0.0.1 - - [17/Nov/2024 17:14:39] \"GET /get-recognized-text HTTP/1.1\" 200 -\n",
      "INFO:werkzeug:127.0.0.1 - - [17/Nov/2024 17:14:40] \"GET /get-recognized-text HTTP/1.1\" 200 -\n",
      "INFO:werkzeug:127.0.0.1 - - [17/Nov/2024 17:14:42] \"GET /get-recognized-text HTTP/1.1\" 200 -\n",
      "INFO:werkzeug:127.0.0.1 - - [17/Nov/2024 17:14:43] \"GET /get-recognized-text HTTP/1.1\" 200 -\n",
      "INFO:werkzeug:127.0.0.1 - - [17/Nov/2024 17:14:44] \"GET /get-recognized-text HTTP/1.1\" 200 -\n",
      "INFO:werkzeug:127.0.0.1 - - [17/Nov/2024 17:14:45] \"GET /get-recognized-text HTTP/1.1\" 200 -\n",
      "INFO:werkzeug:127.0.0.1 - - [17/Nov/2024 17:14:46] \"GET /get-recognized-text HTTP/1.1\" 200 -\n",
      "INFO:werkzeug:127.0.0.1 - - [17/Nov/2024 17:14:47] \"GET /get-recognized-text HTTP/1.1\" 200 -\n",
      "INFO:werkzeug:127.0.0.1 - - [17/Nov/2024 17:14:48] \"GET /get-recognized-text HTTP/1.1\" 200 -\n",
      "INFO:werkzeug:127.0.0.1 - - [17/Nov/2024 17:14:48] \"GET /get-recognized-text HTTP/1.1\" 200 -\n",
      "INFO:werkzeug:127.0.0.1 - - [17/Nov/2024 17:14:49] \"GET /get-recognized-text HTTP/1.1\" 200 -\n",
      "INFO:werkzeug:127.0.0.1 - - [17/Nov/2024 17:14:49] \"GET / HTTP/1.1\" 200 -\n",
      "INFO:werkzeug:127.0.0.1 - - [17/Nov/2024 17:14:51] \"GET /get-recognized-text HTTP/1.1\" 200 -\n",
      "INFO:werkzeug:127.0.0.1 - - [17/Nov/2024 17:14:52] \"GET /get-recognized-text HTTP/1.1\" 200 -\n",
      "INFO:werkzeug:127.0.0.1 - - [17/Nov/2024 17:14:54] \"GET /get-recognized-text HTTP/1.1\" 200 -\n",
      "INFO:werkzeug:127.0.0.1 - - [17/Nov/2024 17:14:55] \"GET /get-recognized-text HTTP/1.1\" 200 -\n",
      "INFO:werkzeug:127.0.0.1 - - [17/Nov/2024 17:14:56] \"GET /get-recognized-text HTTP/1.1\" 200 -\n",
      "INFO:werkzeug:127.0.0.1 - - [17/Nov/2024 17:14:57] \"GET /get-recognized-text HTTP/1.1\" 200 -\n",
      "INFO:werkzeug:127.0.0.1 - - [17/Nov/2024 17:14:58] \"GET /get-recognized-text HTTP/1.1\" 200 -\n",
      "INFO:werkzeug:127.0.0.1 - - [17/Nov/2024 17:14:59] \"GET /get-recognized-text HTTP/1.1\" 200 -\n",
      "INFO:werkzeug:127.0.0.1 - - [17/Nov/2024 17:15:00] \"GET /get-recognized-text HTTP/1.1\" 200 -\n",
      "INFO:werkzeug:127.0.0.1 - - [17/Nov/2024 17:15:01] \"GET /get-recognized-text HTTP/1.1\" 200 -\n",
      "INFO:werkzeug:127.0.0.1 - - [17/Nov/2024 17:15:02] \"GET /get-recognized-text HTTP/1.1\" 200 -\n",
      "INFO:werkzeug:127.0.0.1 - - [17/Nov/2024 17:15:03] \"GET /get-recognized-text HTTP/1.1\" 200 -\n",
      "INFO:werkzeug:127.0.0.1 - - [17/Nov/2024 17:15:04] \"GET /get-recognized-text HTTP/1.1\" 200 -\n",
      "INFO:werkzeug:127.0.0.1 - - [17/Nov/2024 17:15:05] \"GET /get-recognized-text HTTP/1.1\" 200 -\n",
      "INFO:werkzeug:127.0.0.1 - - [17/Nov/2024 17:15:06] \"GET /get-recognized-text HTTP/1.1\" 200 -\n",
      "INFO:werkzeug:127.0.0.1 - - [17/Nov/2024 17:15:07] \"GET /get-recognized-text HTTP/1.1\" 200 -\n",
      "INFO:werkzeug:127.0.0.1 - - [17/Nov/2024 17:15:08] \"GET /get-recognized-text HTTP/1.1\" 200 -\n"
     ]
    }
   ],
   "source": [
    "from flask import Flask, jsonify, request, render_template_string\n",
    "from pyngrok import ngrok\n",
    "from flask_cors import CORS\n",
    "\n",
    "# Set ngrok authtoken (replace with your actual token)\n",
    "ngrok.set_auth_token('2lzFTKGguCaQnvqkBnScBWcsxAP_4srWnM1hngHbUPyDLQcw')\n",
    "\n",
    "# Create Flask app\n",
    "app = Flask(__name__)\n",
    "\n",
    "# Enable CORS for all domains\n",
    "CORS(app)\n",
    "\n",
    "# Global variable to store recognized text\n",
    "recognized_text = \"\"\n",
    "\n",
    "# HTML template for the UI with line breaks and spaces preserved\n",
    "HTML_TEMPLATE = \"\"\"\n",
    "<!DOCTYPE html>\n",
    "<html lang=\"en\">\n",
    "<head>\n",
    "    <meta charset=\"UTF-8\">\n",
    "    <meta name=\"viewport\" content=\"width=device-width, initial-scale=1.0\">\n",
    "    <title>Recognized Text Viewer</title>\n",
    "    <style>\n",
    "        /* General Styles */\n",
    "        body {\n",
    "            font-family: 'Segoe UI', Tahoma, Geneva, Verdana, sans-serif;\n",
    "            margin: 0;\n",
    "            padding: 0;\n",
    "            background-color: #f4f4f9;\n",
    "            color: #333;\n",
    "            display: flex;\n",
    "            justify-content: center;\n",
    "            align-items: center;\n",
    "            height: 100vh;\n",
    "        }\n",
    "\n",
    "        /* Card Container */\n",
    "        .container {\n",
    "            width: 90%;\n",
    "            max-width: 600px;\n",
    "            background: #ffffff;\n",
    "            border-radius: 10px;\n",
    "            box-shadow: 0 4px 6px rgba(0, 0, 0, 0.1);\n",
    "            padding: 20px 30px;\n",
    "            text-align: center;\n",
    "        }\n",
    "\n",
    "        /* Header Styles */\n",
    "        h1 {\n",
    "            font-size: 1.8rem;\n",
    "            margin-bottom: 20px;\n",
    "            color: #4a90e2;\n",
    "        }\n",
    "\n",
    "        /* Text Area */\n",
    "        #recognizedText {\n",
    "            white-space: pre-wrap; /* Preserve spaces and line breaks */\n",
    "            border: 1px solid #e0e0e0;\n",
    "            border-radius: 5px;\n",
    "            padding: 15px;\n",
    "            background-color: #f9f9f9;\n",
    "            color: #444;\n",
    "            font-size: 1.1rem;\n",
    "            text-align: left;\n",
    "            min-height: 100px;\n",
    "            overflow-y: auto;\n",
    "        }\n",
    "\n",
    "        /* Footer */\n",
    "        .footer {\n",
    "            margin-top: 20px;\n",
    "            font-size: 0.9rem;\n",
    "            color: #888;\n",
    "        }\n",
    "    </style>\n",
    "    <script>\n",
    "        async function fetchRecognizedText() {\n",
    "            const response = await fetch('/get-recognized-text');\n",
    "            const data = await response.json();\n",
    "            document.getElementById('recognizedText').innerText = data.recognized_text || \"No text received yet.\";\n",
    "        }\n",
    "\n",
    "        // Fetch text every 2 seconds\n",
    "        setInterval(fetchRecognizedText, 1000);\n",
    "    </script>\n",
    "</head>\n",
    "<body>\n",
    "    <div class=\"container\">\n",
    "        <h1>Recognized Text Viewer</h1>\n",
    "        <div id=\"recognizedText\">Loading...</div>\n",
    "        <div class=\"footer\">\n",
    "            <p>Updated dynamically every 2 seconds</p>\n",
    "        </div>\n",
    "    </div>\n",
    "</body>\n",
    "</html>\n",
    "\n",
    "\"\"\"\n",
    "\n",
    "# Route to serve the HTML UI\n",
    "@app.route('/')\n",
    "def home():\n",
    "    return render_template_string(HTML_TEMPLATE)\n",
    "\n",
    "# Route to fetch recognized text dynamically\n",
    "@app.route('/get-recognized-text', methods=['GET'])\n",
    "def get_recognized_text():\n",
    "    global recognized_text\n",
    "    return jsonify({\"recognized_text\": recognized_text}), 200\n",
    "\n",
    "# POST route to accept recognized text\n",
    "@app.route('/data', methods=['POST'])\n",
    "def receive_data():\n",
    "    global recognized_text\n",
    "    data = request.get_json()  # Parse incoming JSON\n",
    "    recognized_text = data.get('recognizedText', '')\n",
    "    print(f\"Received recognized text: {recognized_text}\")\n",
    "    return jsonify({\"message\": \"Recognized text received successfully!\", \"received_text\": recognized_text}), 200\n",
    "\n",
    "# Set up ngrok tunnel for Flask app\n",
    "public_url = ngrok.connect(5000)\n",
    "print(f\"Flask app is publicly accessible at: {public_url}\")\n",
    "\n",
    "# Start Flask app\n",
    "app.run(port=5000)\n"
   ]
  },
  {
   "cell_type": "code",
   "execution_count": null,
   "metadata": {},
   "outputs": [],
   "source": [
    "from flask import Flask, jsonify, request, render_template_string\n",
    "from pyngrok import ngrok\n",
    "from flask_cors import CORS\n",
    "import requests\n",
    "\n",
    "ngrok.set_auth_token('2lzFTKGguCaQnvqkBnScBWcsxAP_4srWnM1hngHbUPyDLQcw')\n",
    "\n",
    "app = Flask(__name__)\n",
    "CORS(app)\n",
    "\n",
    "recognized_text = \"\"\n",
    "\n",
    "HTML_TEMPLATE = \"\"\"\n",
    "<!DOCTYPE html>\n",
    "<html lang=\"en\">\n",
    "<head>\n",
    "    <meta charset=\"UTF-8\">\n",
    "    <meta name=\"viewport\" content=\"width=device-width, initial-scale=1.0\">\n",
    "    <title>Recognized Text Viewer</title>\n",
    "    <style>\n",
    "        body {\n",
    "            font-family: 'Segoe UI', Tahoma, Geneva, Verdana, sans-serif;\n",
    "            margin: 0;\n",
    "            padding: 0;\n",
    "            background-color: #f4f4f9;\n",
    "            color: #333;\n",
    "            display: flex;\n",
    "            justify-content: center;\n",
    "            align-items: center;\n",
    "            height: 100vh;\n",
    "        }\n",
    "        .container {\n",
    "            width: 90%;\n",
    "            max-width: 600px;\n",
    "            background: #ffffff;\n",
    "            border-radius: 10px;\n",
    "            box-shadow: 0 4px 6px rgba(0, 0, 0, 0.1);\n",
    "            padding: 20px 30px;\n",
    "            text-align: center;\n",
    "        }\n",
    "        h1 {\n",
    "            font-size: 1.8rem;\n",
    "            margin-bottom: 20px;\n",
    "            color: #4a90e2;\n",
    "        }\n",
    "        #recognizedText {\n",
    "            white-space: pre-wrap;\n",
    "            border: 1px solid #e0e0e0;\n",
    "            border-radius: 5px;\n",
    "            padding: 15px;\n",
    "            background-color: #f9f9f9;\n",
    "            color: #444;\n",
    "            font-size: 1.1rem;\n",
    "            text-align: left;\n",
    "            min-height: 100px;\n",
    "            overflow-y: auto;\n",
    "        }\n",
    "        .footer {\n",
    "            margin-top: 20px;\n",
    "            font-size: 0.9rem;\n",
    "            color: #888;\n",
    "        }\n",
    "    </style>\n",
    "    <script>\n",
    "        async function fetchRecognizedText() {\n",
    "            const response = await fetch('/get-recognized-text');\n",
    "            const data = await response.json();\n",
    "            document.getElementById('recognizedText').innerText = data.recognized_text || \"No text received yet.\";\n",
    "        }\n",
    "        setInterval(fetchRecognizedText, 1000);\n",
    "    </script>\n",
    "</head>\n",
    "<body>\n",
    "    <div class=\"container\">\n",
    "        <h1>Recognized Text Viewer</h1>\n",
    "        <div id=\"recognizedText\">Loading...</div>\n",
    "        <div class=\"footer\">\n",
    "            <p>Updated dynamically every 2 seconds</p>\n",
    "        </div>\n",
    "    </div>\n",
    "</body>\n",
    "</html>\n",
    "\"\"\"\n",
    "\n",
    "@app.route('/')\n",
    "def home():\n",
    "    return render_template_string(HTML_TEMPLATE)\n",
    "\n",
    "@app.route('/get-recognized-text', methods=['GET'])\n",
    "def get_recognized_text():\n",
    "    global recognized_text\n",
    "    return jsonify({\"recognized_text\": recognized_text}), 200\n",
    "\n",
    "@app.route('/data', methods=['POST'])\n",
    "def receive_data():\n",
    "    global recognized_text\n",
    "    data = request.get_json()\n",
    "    recognized_text = data.get('recognizedText', '')\n",
    "    print(f\"Received recognized text: {recognized_text}\")\n",
    "    return jsonify({\"message\": \"Recognized text received successfully!\", \"received_text\": recognized_text}), 200\n",
    "\n",
    "@app.route('/send-to-arduino', methods=['POST'])\n",
    "def send_to_arduino():\n",
    "    global recognized_text\n",
    "    arduino_ip = \"ARDUINO's IP\"  \n",
    "    arduino_port = \"# PORT\"            \n",
    "    url = f\"http://{arduino_ip}:{arduino_port}/receive\"\n",
    "    try:\n",
    "        response = requests.post(url, json={\"data\": recognized_text})\n",
    "        return jsonify({\"message\": \"Data sent to Arduino successfully!\", \"response\": response.text}), response.status_code\n",
    "    except requests.exceptions.RequestException as e:\n",
    "        return jsonify({\"message\": \"Failed to send data to Arduino\", \"error\": str(e)}), 500\n",
    "\n",
    "public_url = ngrok.connect(5000)\n",
    "print(f\"Flask app is publicly accessible at: {public_url}\")\n",
    "\n",
    "app.run(port=5000)\n"
   ]
  }
 ],
 "metadata": {
  "colab": {
   "provenance": []
  },
  "kernelspec": {
   "display_name": "Python 3",
   "name": "python3"
  },
  "language_info": {
   "name": "python"
  }
 },
 "nbformat": 4,
 "nbformat_minor": 0
}
