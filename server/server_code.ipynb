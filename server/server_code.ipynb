{
  "nbformat": 4,
  "nbformat_minor": 0,
  "metadata": {
    "colab": {
      "provenance": []
    },
    "kernelspec": {
      "name": "python3",
      "display_name": "Python 3"
    },
    "language_info": {
      "name": "python"
    }
  },
  "cells": [
    {
      "cell_type": "code",
      "source": [
        "!pip install pyngrok\n"
      ],
      "metadata": {
        "colab": {
          "base_uri": "https://localhost:8080/"
        },
        "id": "IyZAyAE3jrm2",
        "outputId": "9397677e-e96d-423c-b5b7-46c1fc509ff3"
      },
      "execution_count": 2,
      "outputs": [
        {
          "output_type": "stream",
          "name": "stdout",
          "text": [
            "Collecting pyngrok\n",
            "  Downloading pyngrok-7.2.2-py3-none-any.whl.metadata (8.4 kB)\n",
            "Requirement already satisfied: PyYAML>=5.1 in /usr/local/lib/python3.10/dist-packages (from pyngrok) (6.0.2)\n",
            "Downloading pyngrok-7.2.2-py3-none-any.whl (22 kB)\n",
            "Installing collected packages: pyngrok\n",
            "Successfully installed pyngrok-7.2.2\n"
          ]
        }
      ]
    },
    {
      "cell_type": "code",
      "source": [
        "!pip install flask-cors\n"
      ],
      "metadata": {
        "colab": {
          "base_uri": "https://localhost:8080/"
        },
        "id": "1IpeLKUaj23H",
        "outputId": "a5f5b155-eba9-410c-a284-b106474ca289"
      },
      "execution_count": 4,
      "outputs": [
        {
          "output_type": "stream",
          "name": "stdout",
          "text": [
            "Collecting flask-cors\n",
            "  Downloading Flask_Cors-5.0.0-py2.py3-none-any.whl.metadata (5.5 kB)\n",
            "Requirement already satisfied: Flask>=0.9 in /usr/local/lib/python3.10/dist-packages (from flask-cors) (3.1.0)\n",
            "Requirement already satisfied: Werkzeug>=3.1 in /usr/local/lib/python3.10/dist-packages (from Flask>=0.9->flask-cors) (3.1.3)\n",
            "Requirement already satisfied: Jinja2>=3.1.2 in /usr/local/lib/python3.10/dist-packages (from Flask>=0.9->flask-cors) (3.1.5)\n",
            "Requirement already satisfied: itsdangerous>=2.2 in /usr/local/lib/python3.10/dist-packages (from Flask>=0.9->flask-cors) (2.2.0)\n",
            "Requirement already satisfied: click>=8.1.3 in /usr/local/lib/python3.10/dist-packages (from Flask>=0.9->flask-cors) (8.1.8)\n",
            "Requirement already satisfied: blinker>=1.9 in /usr/local/lib/python3.10/dist-packages (from Flask>=0.9->flask-cors) (1.9.0)\n",
            "Requirement already satisfied: MarkupSafe>=2.0 in /usr/local/lib/python3.10/dist-packages (from Jinja2>=3.1.2->Flask>=0.9->flask-cors) (3.0.2)\n",
            "Downloading Flask_Cors-5.0.0-py2.py3-none-any.whl (14 kB)\n",
            "Installing collected packages: flask-cors\n",
            "Successfully installed flask-cors-5.0.0\n"
          ]
        }
      ]
    },
    {
      "cell_type": "code",
      "source": [
        "pip install pyserial\n"
      ],
      "metadata": {
        "colab": {
          "base_uri": "https://localhost:8080/"
        },
        "id": "jL5PyxS9o4fa",
        "outputId": "f23041ee-65e9-47b4-f0b3-d1b9d4a4a0f3"
      },
      "execution_count": 9,
      "outputs": [
        {
          "output_type": "stream",
          "name": "stdout",
          "text": [
            "Collecting pyserial\n",
            "  Downloading pyserial-3.5-py2.py3-none-any.whl.metadata (1.6 kB)\n",
            "Downloading pyserial-3.5-py2.py3-none-any.whl (90 kB)\n",
            "\u001b[2K   \u001b[90m━━━━━━━━━━━━━━━━━━━━━━━━━━━━━━━━━━━━━━━━\u001b[0m \u001b[32m90.6/90.6 kB\u001b[0m \u001b[31m2.6 MB/s\u001b[0m eta \u001b[36m0:00:00\u001b[0m\n",
            "\u001b[?25hInstalling collected packages: pyserial\n",
            "Successfully installed pyserial-3.5\n"
          ]
        }
      ]
    },
    {
      "cell_type": "code",
      "execution_count": null,
      "metadata": {
        "colab": {
          "base_uri": "https://localhost:8080/"
        },
        "id": "aGhBg6u8gVv5",
        "outputId": "7e5728cd-c210-47b8-c723-e309d60a79f5"
      },
      "outputs": [
        {
          "output_type": "stream",
          "name": "stdout",
          "text": [
            "Failed to connect to Arduino: [Errno 2] could not open port COM3: [Errno 2] No such file or directory: 'COM3'\n",
            "Flask app is publicly accessible at: NgrokTunnel: \"https://e153-34-121-61-220.ngrok-free.app\" -> \"http://localhost:5000\"\n",
            " * Serving Flask app '__main__'\n",
            " * Debug mode: off\n"
          ]
        },
        {
          "output_type": "stream",
          "name": "stderr",
          "text": [
            "INFO:werkzeug:\u001b[31m\u001b[1mWARNING: This is a development server. Do not use it in a production deployment. Use a production WSGI server instead.\u001b[0m\n",
            " * Running on http://127.0.0.1:5000\n",
            "INFO:werkzeug:\u001b[33mPress CTRL+C to quit\u001b[0m\n"
          ]
        }
      ],
      "source": [
        "from flask import Flask, jsonify, request, render_template_string\n",
        "from pyngrok import ngrok\n",
        "from flask_cors import CORS\n",
        "import serial\n",
        "\n",
        "# Set your ngrok authentication token\n",
        "ngrok.set_auth_token('2lzFTKGguCaQnvqkBnScBWcsxAP_4srWnM1hngHbUPyDLQcw')\n",
        "\n",
        "# Initialize Flask app\n",
        "app = Flask(__name__)\n",
        "CORS(app)\n",
        "\n",
        "# Global variables\n",
        "recognized_text = \"\"\n",
        "\n",
        "# Initialize serial connection\n",
        "arduino_port = \"COM3\"  # Replace with your Arduino's COM port\n",
        "baud_rate = 9600       # Replace with your Arduino's baud rate\n",
        "try:\n",
        "    arduino = serial.Serial(arduino_port, baud_rate, timeout=1)\n",
        "    print(f\"Connected to Arduino on {arduino_port}\")\n",
        "except serial.SerialException as e:\n",
        "    arduino = None\n",
        "    print(f\"Failed to connect to Arduino: {e}\")\n",
        "\n",
        "# HTML template\n",
        "HTML_TEMPLATE = \"\"\"\n",
        "<!DOCTYPE html>\n",
        "<html lang=\"en\">\n",
        "<head>\n",
        "    <meta charset=\"UTF-8\">\n",
        "    <meta name=\"viewport\" content=\"width=device-width, initial-scale=1.0\">\n",
        "    <title>Recognized Text Viewer</title>\n",
        "    <style>\n",
        "        body {\n",
        "            font-family: 'Arial', sans-serif;\n",
        "            margin: 0;\n",
        "            padding: 0;\n",
        "            background: linear-gradient(135deg, #74ebd5, #9face6);\n",
        "            display: flex;\n",
        "            justify-content: center;\n",
        "            align-items: center;\n",
        "            height: 100vh;\n",
        "            color: #333;\n",
        "        }\n",
        "\n",
        "        .container {\n",
        "            background: #fff;\n",
        "            box-shadow: 0 4px 15px rgba(0, 0, 0, 0.2);\n",
        "            border-radius: 15px;\n",
        "            overflow: hidden;\n",
        "            text-align: center;\n",
        "            padding: 20px;\n",
        "            max-width: 600px;\n",
        "            width: 100%;\n",
        "        }\n",
        "\n",
        "        h1 {\n",
        "            font-size: 2rem;\n",
        "            margin: 0 0 20px;\n",
        "            color: #555;\n",
        "        }\n",
        "\n",
        "        .recognized-text {\n",
        "            background: #f9f9f9;\n",
        "            padding: 15px;\n",
        "            border-radius: 10px;\n",
        "            border: 1px solid #ddd;\n",
        "            font-size: 1.2rem;\n",
        "            line-height: 1.6;\n",
        "            color: #333;\n",
        "            min-height: 100px;\n",
        "            display: flex;\n",
        "            justify-content: center;\n",
        "            align-items: center;\n",
        "            white-space: pre-wrap; /* Preserves whitespace and line breaks */\n",
        "        }\n",
        "\n",
        "        footer {\n",
        "            margin-top: 15px;\n",
        "            font-size: 0.9rem;\n",
        "            color: #888;\n",
        "        }\n",
        "\n",
        "        @keyframes fadeIn {\n",
        "            from {\n",
        "                opacity: 0;\n",
        "                transform: translateY(10px);\n",
        "            }\n",
        "            to {\n",
        "                opacity: 1;\n",
        "                transform: translateY(0);\n",
        "            }\n",
        "        }\n",
        "\n",
        "        .container {\n",
        "            animation: fadeIn 1s ease-in-out;\n",
        "        }\n",
        "    </style>\n",
        "</head>\n",
        "<body>\n",
        "    <div class=\"container\">\n",
        "        <h1>Recognized Text Viewer</h1>\n",
        "        <div class=\"recognized-text\" id=\"recognizedText\">Loading...</div>\n",
        "        <footer>Updated dynamically every 2 seconds</footer>\n",
        "    </div>\n",
        "    <script>\n",
        "        async function fetchRecognizedText() {\n",
        "            try {\n",
        "                const response = await fetch('/get-recognized-text');\n",
        "                const data = await response.json();\n",
        "                document.getElementById('recognizedText').textContent = data.recognized_text || \"No text available.\";\n",
        "            } catch (error) {\n",
        "                console.error(\"Error fetching recognized text:\", error);\n",
        "                document.getElementById('recognizedText').textContent = \"Error loading text.\";\n",
        "            }\n",
        "        }\n",
        "\n",
        "        setInterval(fetchRecognizedText, 2000);\n",
        "        fetchRecognizedText();\n",
        "    </script>\n",
        "</body>\n",
        "</html>\n",
        "\"\"\"\n",
        "\n",
        "@app.route('/')\n",
        "def home():\n",
        "    return render_template_string(HTML_TEMPLATE)\n",
        "\n",
        "@app.route('/get-recognized-text', methods=['GET'])\n",
        "def get_recognized_text():\n",
        "    global recognized_text\n",
        "    return jsonify({\"recognized_text\": recognized_text}), 200\n",
        "\n",
        "@app.route('/data', methods=['POST'])\n",
        "def receive_data():\n",
        "    global recognized_text\n",
        "    data = request.get_json()\n",
        "    recognized_text = data.get('recognizedText', '')\n",
        "    print(f\"Received recognized text: {recognized_text}\")\n",
        "    return jsonify({\"message\": \"Recognized text received successfully!\", \"received_text\": recognized_text}), 200\n",
        "\n",
        "@app.route('/send-to-arduino', methods=['POST'])\n",
        "def send_to_arduino():\n",
        "    global recognized_text\n",
        "    if arduino:\n",
        "        try:\n",
        "            arduino.write(recognized_text.encode('utf-8'))\n",
        "            return jsonify({\"message\": \"Data sent to Arduino successfully!\"}), 200\n",
        "        except serial.SerialException as e:\n",
        "            return jsonify({\"message\": \"Failed to send data to Arduino\", \"error\": str(e)}), 500\n",
        "    else:\n",
        "        return jsonify({\"message\": \"Arduino is not connected\"}), 500\n",
        "\n",
        "# Start ngrok\n",
        "public_url = ngrok.connect(5000)\n",
        "print(f\"Flask app is publicly accessible at: {public_url}\")\n",
        "\n",
        "# Run Flask app\n",
        "app.run(port=5000)\n"
      ]
    },
    {
      "cell_type": "code",
      "source": [],
      "metadata": {
        "id": "vnARjgUVjqjM"
      },
      "execution_count": null,
      "outputs": []
    }
  ]
}